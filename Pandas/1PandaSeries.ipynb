{
 "cells": [
  {
   "cell_type": "code",
   "execution_count": 3,
   "id": "8ad237a9-219a-46bc-9331-9fae02f91227",
   "metadata": {},
   "outputs": [
    {
     "name": "stdout",
     "output_type": "stream",
     "text": [
      "Requirement already satisfied: pandas in c:\\users\\ashis\\anaconda3\\lib\\site-packages (2.1.4)\n",
      "Requirement already satisfied: numpy<2,>=1.23.2 in c:\\users\\ashis\\anaconda3\\lib\\site-packages (from pandas) (1.26.4)\n",
      "Requirement already satisfied: python-dateutil>=2.8.2 in c:\\users\\ashis\\anaconda3\\lib\\site-packages (from pandas) (2.8.2)\n",
      "Requirement already satisfied: pytz>=2020.1 in c:\\users\\ashis\\anaconda3\\lib\\site-packages (from pandas) (2023.3.post1)\n",
      "Requirement already satisfied: tzdata>=2022.1 in c:\\users\\ashis\\anaconda3\\lib\\site-packages (from pandas) (2023.3)\n",
      "Requirement already satisfied: six>=1.5 in c:\\users\\ashis\\anaconda3\\lib\\site-packages (from python-dateutil>=2.8.2->pandas) (1.16.0)\n"
     ]
    }
   ],
   "source": [
    "!pip install pandas"
   ]
  },
  {
   "cell_type": "code",
   "execution_count": 11,
   "id": "26d36a64-66b9-4ac5-ae8b-203bfe66e413",
   "metadata": {},
   "outputs": [],
   "source": [
    "import pandas as pd\n",
    "import numpy as np"
   ]
  },
  {
   "cell_type": "code",
   "execution_count": 7,
   "id": "be10c5ee-3a15-40d5-9124-2e814151f52e",
   "metadata": {},
   "outputs": [
    {
     "data": {
      "text/plain": [
       "'2.1.4'"
      ]
     },
     "execution_count": 7,
     "metadata": {},
     "output_type": "execute_result"
    }
   ],
   "source": [
    "pd.__version__"
   ]
  },
  {
   "cell_type": "code",
   "execution_count": 9,
   "id": "a9cf0a43-bbca-4cc7-95be-9e87d4f56d9b",
   "metadata": {},
   "outputs": [
    {
     "data": {
      "text/plain": [
       "0    1\n",
       "1    2\n",
       "2    3\n",
       "3    4\n",
       "4    5\n",
       "dtype: int64"
      ]
     },
     "execution_count": 9,
     "metadata": {},
     "output_type": "execute_result"
    }
   ],
   "source": [
    "lst = [1,2,3,4,5]\n",
    "pd.Series(lst)"
   ]
  },
  {
   "cell_type": "code",
   "execution_count": 13,
   "id": "20011be2-e7bd-430b-b793-d950e6556c25",
   "metadata": {},
   "outputs": [
    {
     "name": "stdout",
     "output_type": "stream",
     "text": [
      "[1 2 3 4 5]\n"
     ]
    },
    {
     "data": {
      "text/plain": [
       "0    1\n",
       "1    2\n",
       "2    3\n",
       "3    4\n",
       "4    5\n",
       "dtype: int32"
      ]
     },
     "execution_count": 13,
     "metadata": {},
     "output_type": "execute_result"
    }
   ],
   "source": [
    "arr = np.array(lst)\n",
    "print(arr)\n",
    "pd.Series(arr)"
   ]
  },
  {
   "cell_type": "code",
   "execution_count": 19,
   "id": "0bcc06fd-81ce-4b4a-b4ec-ee37d24a564e",
   "metadata": {},
   "outputs": [
    {
     "data": {
      "text/plain": [
       "Lakshya    1\n",
       "Ashis      2\n",
       "Archana    3\n",
       "Goblin     4\n",
       "dtype: int64"
      ]
     },
     "execution_count": 19,
     "metadata": {},
     "output_type": "execute_result"
    }
   ],
   "source": [
    "pd.Series(index = [\"Lakshya\",\"Ashis\",\"Archana\",\"Goblin\"],data = [1,2,3,4])"
   ]
  },
  {
   "cell_type": "code",
   "execution_count": 21,
   "id": "2565f676-9265-4f1d-8fc2-3d23a3c45f28",
   "metadata": {},
   "outputs": [
    {
     "data": {
      "text/plain": [
       "day1     4000\n",
       "day2     3000\n",
       "day3    12000\n",
       "dtype: int64"
      ]
     },
     "execution_count": 21,
     "metadata": {},
     "output_type": "execute_result"
    }
   ],
   "source": [
    "steps = {'day1' : 4000, 'day2' : 3000, 'day3' : 12000}\n",
    "pd.Series(steps)"
   ]
  },
  {
   "cell_type": "code",
   "execution_count": 23,
   "id": "31c7ade5-4269-494a-bde8-0865a19dce18",
   "metadata": {},
   "outputs": [
    {
     "data": {
      "text/plain": [
       "0    5\n",
       "dtype: int64"
      ]
     },
     "execution_count": 23,
     "metadata": {},
     "output_type": "execute_result"
    }
   ],
   "source": [
    "pd.Series(5)"
   ]
  },
  {
   "cell_type": "code",
   "execution_count": 25,
   "id": "58e195cf-b161-4799-8ee1-cb5d4cd2492f",
   "metadata": {},
   "outputs": [
    {
     "data": {
      "text/plain": [
       "0    5\n",
       "0    5\n",
       "0    5\n",
       "0    5\n",
       "dtype: int64"
      ]
     },
     "execution_count": 25,
     "metadata": {},
     "output_type": "execute_result"
    }
   ],
   "source": [
    "pd.Series(5).repeat(4)"
   ]
  },
  {
   "cell_type": "code",
   "execution_count": 27,
   "id": "926010bd-9426-4c86-8f03-cd94200c2786",
   "metadata": {},
   "outputs": [
    {
     "data": {
      "text/html": [
       "<div>\n",
       "<style scoped>\n",
       "    .dataframe tbody tr th:only-of-type {\n",
       "        vertical-align: middle;\n",
       "    }\n",
       "\n",
       "    .dataframe tbody tr th {\n",
       "        vertical-align: top;\n",
       "    }\n",
       "\n",
       "    .dataframe thead th {\n",
       "        text-align: right;\n",
       "    }\n",
       "</style>\n",
       "<table border=\"1\" class=\"dataframe\">\n",
       "  <thead>\n",
       "    <tr style=\"text-align: right;\">\n",
       "      <th></th>\n",
       "      <th>index</th>\n",
       "      <th>0</th>\n",
       "    </tr>\n",
       "  </thead>\n",
       "  <tbody>\n",
       "    <tr>\n",
       "      <th>0</th>\n",
       "      <td>0</td>\n",
       "      <td>5</td>\n",
       "    </tr>\n",
       "    <tr>\n",
       "      <th>1</th>\n",
       "      <td>0</td>\n",
       "      <td>5</td>\n",
       "    </tr>\n",
       "    <tr>\n",
       "      <th>2</th>\n",
       "      <td>0</td>\n",
       "      <td>5</td>\n",
       "    </tr>\n",
       "    <tr>\n",
       "      <th>3</th>\n",
       "      <td>0</td>\n",
       "      <td>5</td>\n",
       "    </tr>\n",
       "  </tbody>\n",
       "</table>\n",
       "</div>"
      ],
      "text/plain": [
       "   index  0\n",
       "0      0  5\n",
       "1      0  5\n",
       "2      0  5\n",
       "3      0  5"
      ]
     },
     "execution_count": 27,
     "metadata": {},
     "output_type": "execute_result"
    }
   ],
   "source": [
    "pd.Series(5).repeat(4).reset_index()"
   ]
  },
  {
   "cell_type": "code",
   "execution_count": 29,
   "id": "6c3ea826-c212-49bf-8fe3-ece01d98bfaa",
   "metadata": {},
   "outputs": [
    {
     "data": {
      "text/plain": [
       "0    5\n",
       "1    5\n",
       "2    5\n",
       "3    5\n",
       "dtype: int64"
      ]
     },
     "execution_count": 29,
     "metadata": {},
     "output_type": "execute_result"
    }
   ],
   "source": [
    "pd.Series(5).repeat(4).reset_index(drop=True)"
   ]
  },
  {
   "cell_type": "code",
   "execution_count": 39,
   "id": "ae42a4b8-7f9b-4769-8da0-56f5f16c04dc",
   "metadata": {},
   "outputs": [
    {
     "data": {
      "text/plain": [
       "0    2\n",
       "1    2\n",
       "2    2\n",
       "3    3\n",
       "4    3\n",
       "5    3\n",
       "dtype: int64"
      ]
     },
     "execution_count": 39,
     "metadata": {},
     "output_type": "execute_result"
    }
   ],
   "source": [
    "pd.Series([2,3]).repeat(3).reset_index(drop=True)"
   ]
  },
  {
   "cell_type": "code",
   "execution_count": 41,
   "id": "a9565e53-8fb6-4fd6-98dc-b4b1b2860c3f",
   "metadata": {},
   "outputs": [
    {
     "data": {
      "text/plain": [
       "0    2\n",
       "1    2\n",
       "2    2\n",
       "3    3\n",
       "dtype: int64"
      ]
     },
     "execution_count": 41,
     "metadata": {},
     "output_type": "execute_result"
    }
   ],
   "source": [
    "pd.Series([2,3]).repeat([3,1]).reset_index(drop=True)"
   ]
  },
  {
   "cell_type": "code",
   "execution_count": 43,
   "id": "15224b56-b09f-4b82-a837-4fa08f142890",
   "metadata": {},
   "outputs": [
    {
     "data": {
      "text/plain": [
       "3"
      ]
     },
     "execution_count": 43,
     "metadata": {},
     "output_type": "execute_result"
    }
   ],
   "source": [
    "s = pd.Series([2,3]).repeat([3,1]).reset_index(drop=True)\n",
    "s[3]"
   ]
  },
  {
   "cell_type": "code",
   "execution_count": 45,
   "id": "5ed31845-fe4a-4fad-ac61-e21f9be248db",
   "metadata": {},
   "outputs": [
    {
     "data": {
      "text/plain": [
       "1    2\n",
       "2    2\n",
       "dtype: int64"
      ]
     },
     "execution_count": 45,
     "metadata": {},
     "output_type": "execute_result"
    }
   ],
   "source": [
    "s[1:3]"
   ]
  },
  {
   "cell_type": "code",
   "execution_count": 51,
   "id": "2332f0f1-3be9-4d25-8873-e41997f73fda",
   "metadata": {},
   "outputs": [
    {
     "name": "stderr",
     "output_type": "stream",
     "text": [
      "C:\\Users\\ashis\\AppData\\Local\\Temp\\ipykernel_18288\\1532737657.py:2: FutureWarning: The provided callable <built-in function min> is currently using Series.min. In a future version of pandas, the provided callable will be used directly. To keep current behavior pass the string \"min\" instead.\n",
      "  sr.agg([min,max,sum])\n",
      "C:\\Users\\ashis\\AppData\\Local\\Temp\\ipykernel_18288\\1532737657.py:2: FutureWarning: The provided callable <built-in function max> is currently using Series.max. In a future version of pandas, the provided callable will be used directly. To keep current behavior pass the string \"max\" instead.\n",
      "  sr.agg([min,max,sum])\n",
      "C:\\Users\\ashis\\AppData\\Local\\Temp\\ipykernel_18288\\1532737657.py:2: FutureWarning: The provided callable <built-in function sum> is currently using Series.sum. In a future version of pandas, the provided callable will be used directly. To keep current behavior pass the string \"sum\" instead.\n",
      "  sr.agg([min,max,sum])\n"
     ]
    },
    {
     "data": {
      "text/plain": [
       "min     1\n",
       "max     7\n",
       "sum    28\n",
       "dtype: int64"
      ]
     },
     "execution_count": 51,
     "metadata": {},
     "output_type": "execute_result"
    }
   ],
   "source": [
    "sr = pd.Series([1,2,3,4,5,6,7])\n",
    "sr.agg([min,max,sum])"
   ]
  },
  {
   "cell_type": "code",
   "execution_count": 53,
   "id": "b3f56d16-1379-447b-a86a-3002883a72b8",
   "metadata": {},
   "outputs": [
    {
     "data": {
      "text/plain": [
       "0    1\n",
       "1    2\n",
       "2    3\n",
       "3    4\n",
       "4    5\n",
       "5    6\n",
       "6    7\n",
       "dtype: int64"
      ]
     },
     "execution_count": 53,
     "metadata": {},
     "output_type": "execute_result"
    }
   ],
   "source": [
    "sr = pd.Series([1,-2,3,-4,5,-6,7])\n",
    "\n",
    "sr.abs()"
   ]
  },
  {
   "cell_type": "code",
   "execution_count": 65,
   "id": "3248f37a-f6ee-4496-8411-37b10bc399b2",
   "metadata": {},
   "outputs": [
    {
     "data": {
      "text/plain": [
       "0    1\n",
       "1   -2\n",
       "2    3\n",
       "dtype: int64"
      ]
     },
     "execution_count": 65,
     "metadata": {},
     "output_type": "execute_result"
    }
   ],
   "source": [
    "sr1 = pd.Series([1,-2,3])\n",
    "sr2 = pd.Series([1,2,3])\n",
    "\n",
    "sr1"
   ]
  },
  {
   "cell_type": "code",
   "execution_count": 67,
   "id": "17c4db36-2a05-4572-a784-2a071a1ffc5a",
   "metadata": {},
   "outputs": [
    {
     "data": {
      "text/plain": [
       "pandas.core.series.Series"
      ]
     },
     "execution_count": 67,
     "metadata": {},
     "output_type": "execute_result"
    }
   ],
   "source": [
    "type(sr1)"
   ]
  },
  {
   "cell_type": "code",
   "execution_count": 73,
   "id": "a8e698ee-d400-47db-a527-760e0a91ebaa",
   "metadata": {},
   "outputs": [
    {
     "data": {
      "text/plain": [
       "numpy.int64"
      ]
     },
     "execution_count": 73,
     "metadata": {},
     "output_type": "execute_result"
    }
   ],
   "source": [
    "type(sr1[1])"
   ]
  },
  {
   "cell_type": "code",
   "execution_count": 71,
   "id": "534b7250-a4ae-4ff5-a950-87ad72a067b3",
   "metadata": {},
   "outputs": [
    {
     "data": {
      "text/plain": [
       "0    1.0\n",
       "1   -2.0\n",
       "2    3.0\n",
       "dtype: float64"
      ]
     },
     "execution_count": 71,
     "metadata": {},
     "output_type": "execute_result"
    }
   ],
   "source": [
    "sr1.astype('float')"
   ]
  },
  {
   "cell_type": "code",
   "execution_count": 75,
   "id": "cd84d6ef-7dc7-47e0-b22a-9d0c9e4c48ca",
   "metadata": {},
   "outputs": [
    {
     "data": {
      "text/plain": [
       "0     1\n",
       "1     2\n",
       "2    30\n",
       "3     4\n",
       "4     5\n",
       "5     6\n",
       "6     7\n",
       "7     8\n",
       "8     9\n",
       "9    20\n",
       "dtype: int64"
      ]
     },
     "execution_count": 75,
     "metadata": {},
     "output_type": "execute_result"
    }
   ],
   "source": [
    "sr1 = pd.Series([1,2,30,4,5,6,7,8,9,20])\n",
    "sr1"
   ]
  },
  {
   "cell_type": "code",
   "execution_count": 77,
   "id": "990fdbc4-dd7f-46e1-be61-dee579446fc1",
   "metadata": {},
   "outputs": [
    {
     "data": {
      "text/plain": [
       "0     1\n",
       "1     2\n",
       "2    30\n",
       "3     4\n",
       "4     5\n",
       "5     6\n",
       "6     7\n",
       "7     8\n",
       "8     9\n",
       "9    20\n",
       "dtype: int64"
      ]
     },
     "execution_count": 77,
     "metadata": {},
     "output_type": "execute_result"
    }
   ],
   "source": [
    "sr1[:]"
   ]
  },
  {
   "cell_type": "code",
   "execution_count": 81,
   "id": "b3e966fb-eea6-4958-a552-c426f1921d50",
   "metadata": {},
   "outputs": [
    {
     "data": {
      "text/plain": [
       "0     1\n",
       "1     2\n",
       "2    30\n",
       "3     4\n",
       "4     5\n",
       "5     6\n",
       "dtype: int64"
      ]
     },
     "execution_count": 81,
     "metadata": {},
     "output_type": "execute_result"
    }
   ],
   "source": [
    "sr1[:-4] #last 4  value will be removed"
   ]
  },
  {
   "cell_type": "code",
   "execution_count": 85,
   "id": "442080db-750c-46d7-996f-534a002add0d",
   "metadata": {},
   "outputs": [
    {
     "data": {
      "text/plain": [
       "0    False\n",
       "1    False\n",
       "2     True\n",
       "3    False\n",
       "4    False\n",
       "5    False\n",
       "6    False\n",
       "7    False\n",
       "8    False\n",
       "9     True\n",
       "dtype: bool"
      ]
     },
     "execution_count": 85,
     "metadata": {},
     "output_type": "execute_result"
    }
   ],
   "source": [
    "sr1.between(10,50)"
   ]
  },
  {
   "cell_type": "code",
   "execution_count": 87,
   "id": "8604777f-18a9-4b28-9ce6-2ab7e70be378",
   "metadata": {},
   "outputs": [],
   "source": [
    "ser = pd.Series([ \"Data Science\" , \"JupyterNoteBook\" , 'Hello World' , 'Machine Learning'])"
   ]
  },
  {
   "cell_type": "code",
   "execution_count": 89,
   "id": "02be3088-5f95-437c-8664-8df23e98a1a3",
   "metadata": {},
   "outputs": [
    {
     "data": {
      "text/plain": [
       "0        Data Science\n",
       "1     JupyterNoteBook\n",
       "2         Hello World\n",
       "3    Machine Learning\n",
       "dtype: object"
      ]
     },
     "execution_count": 89,
     "metadata": {},
     "output_type": "execute_result"
    }
   ],
   "source": [
    "ser"
   ]
  },
  {
   "cell_type": "code",
   "execution_count": 95,
   "id": "9bf556c4-4e4c-4e9e-9716-4e7de3d3fabb",
   "metadata": {},
   "outputs": [
    {
     "name": "stdout",
     "output_type": "stream",
     "text": [
      "0        DATA SCIENCE\n",
      "1     JUPYTERNOTEBOOK\n",
      "2         HELLO WORLD\n",
      "3    MACHINE LEARNING\n",
      "dtype: object\n",
      "--------------------\n",
      "0        data science\n",
      "1     jupyternotebook\n",
      "2         hello world\n",
      "3    machine learning\n",
      "dtype: object\n"
     ]
    }
   ],
   "source": [
    "print(ser.str.upper())\n",
    "print(\"-\"*20)\n",
    "print(ser.str.lower())"
   ]
  },
  {
   "cell_type": "code",
   "execution_count": 97,
   "id": "b34a4279-7127-466e-9f8c-9c3ac2066b76",
   "metadata": {},
   "outputs": [
    {
     "name": "stdout",
     "output_type": "stream",
     "text": [
      "12\n",
      "15\n",
      "11\n",
      "16\n"
     ]
    }
   ],
   "source": [
    "for i in ser:\n",
    "    print(len(i))"
   ]
  },
  {
   "cell_type": "code",
   "execution_count": 99,
   "id": "97a2f8ff-6c12-45e9-b0cc-8357e6cdfeba",
   "metadata": {},
   "outputs": [
    {
     "name": "stdout",
     "output_type": "stream",
     "text": [
      "Data Science :  12\n",
      "JupyterNoteBook :  15\n",
      "Hello World :  11\n",
      "Machine Learning :  16\n"
     ]
    }
   ],
   "source": [
    "for i in ser:\n",
    "    print(i , \": \",len(i))"
   ]
  },
  {
   "cell_type": "code",
   "execution_count": 139,
   "id": "a18433bb-8395-408a-861e-3d716ae5387f",
   "metadata": {},
   "outputs": [
    {
     "name": "stdout",
     "output_type": "stream",
     "text": [
      "Data Science     16\n",
      "JupyterNoteBook    18\n",
      "       Hello World 18\n",
      "Machine Learning 16\n",
      "------------------------------\n",
      "After strip The new lengths are \n",
      "Data Science 12\n",
      "JupyterNoteBook 15\n",
      "Hello World 11\n",
      "Machine Learning 16\n"
     ]
    }
   ],
   "source": [
    "ser = pd.Series([ \"Data Science    \" , \"JupyterNoteBook   \" , '       Hello World' , 'Machine Learning'])\n",
    "\n",
    "for i in ser:\n",
    "    print(i , len(i))\n",
    "ser=ser.str.strip()\n",
    "\n",
    "print(\"-\"*30)\n",
    "print(\"After strip The new lengths are \")\n",
    "\n",
    "for i in ser:\n",
    "    print(i , len(i))"
   ]
  },
  {
   "cell_type": "code",
   "execution_count": 141,
   "id": "33075f69-0e76-4395-99cf-1a6529c0e3e5",
   "metadata": {},
   "outputs": [
    {
     "data": {
      "text/plain": [
       "0        Data Science\n",
       "1     JupyterNoteBook\n",
       "2         Hello World\n",
       "3    Machine Learning\n",
       "dtype: object"
      ]
     },
     "execution_count": 141,
     "metadata": {},
     "output_type": "execute_result"
    }
   ],
   "source": [
    "ser"
   ]
  },
  {
   "cell_type": "code",
   "execution_count": 149,
   "id": "290be62d-5325-42be-9c62-739595c6c155",
   "metadata": {},
   "outputs": [
    {
     "name": "stdout",
     "output_type": "stream",
     "text": [
      "['Data', 'Science']\n",
      "Science\n"
     ]
    }
   ],
   "source": [
    "ser.str.split(\" \")\n",
    "print(ser.str.split()[0])\n",
    "print(ser.str.split()[0][1])"
   ]
  },
  {
   "cell_type": "code",
   "execution_count": 151,
   "id": "0146805e-6433-442b-b882-0f6b116a4252",
   "metadata": {},
   "outputs": [
    {
     "data": {
      "text/plain": [
       "0    [06, 02, 2025]\n",
       "1    [22, 03, 2024]\n",
       "dtype: object"
      ]
     },
     "execution_count": 151,
     "metadata": {},
     "output_type": "execute_result"
    }
   ],
   "source": [
    "ser = pd.Series([\"06-02-2025\",\"22-03-2024\"])\n",
    "ser.str.split(\"-\")"
   ]
  },
  {
   "cell_type": "code",
   "execution_count": 165,
   "id": "b42c8605-a571-4f99-a800-18765e8832d8",
   "metadata": {},
   "outputs": [
    {
     "name": "stdout",
     "output_type": "stream",
     "text": [
      "06\n",
      "22\n"
     ]
    }
   ],
   "source": [
    "#accessing the days from the dates\n",
    "for i in (0,1):\n",
    "    print(ser.str.split(\"-\")[i][0])"
   ]
  },
  {
   "cell_type": "raw",
   "id": "c259af53-cfcb-4273-bf3f-7e48f878d034",
   "metadata": {},
   "source": [
    "Contains Function"
   ]
  },
  {
   "cell_type": "code",
   "execution_count": 167,
   "id": "50a2f180-b553-4466-a3ed-6042c904316c",
   "metadata": {},
   "outputs": [
    {
     "data": {
      "text/plain": [
       "0     True\n",
       "1    False\n",
       "2     True\n",
       "3    False\n",
       "dtype: bool"
      ]
     },
     "execution_count": 167,
     "metadata": {},
     "output_type": "execute_result"
    }
   ],
   "source": [
    "ser = pd.Series([ \"Data@Science\" , \"JupyterNoteBook\" , 'Hello@World' , 'Machine Learning'])\n",
    "ser.str.contains(\"@\")"
   ]
  },
  {
   "cell_type": "raw",
   "id": "07f1df55-9669-45b3-b642-c9be6c96c1b8",
   "metadata": {},
   "source": [
    "Replace Function "
   ]
  },
  {
   "cell_type": "code",
   "execution_count": 169,
   "id": "69c2ba75-3aa7-4ab6-bbe3-15b497c44ed7",
   "metadata": {},
   "outputs": [
    {
     "data": {
      "text/plain": [
       "0        Data Science\n",
       "1     JupyterNoteBook\n",
       "2         Hello World\n",
       "3    Machine Learning\n",
       "dtype: object"
      ]
     },
     "execution_count": 169,
     "metadata": {},
     "output_type": "execute_result"
    }
   ],
   "source": [
    "ser.str.replace(\"@\",\" \")"
   ]
  },
  {
   "cell_type": "raw",
   "id": "84fd12d7-cba1-403e-91ff-3fc3457fc720",
   "metadata": {},
   "source": [
    "Count Function"
   ]
  },
  {
   "cell_type": "code",
   "execution_count": 173,
   "id": "0984c747-7e19-4ef6-95c7-502f46b98694",
   "metadata": {},
   "outputs": [
    {
     "data": {
      "text/plain": [
       "0    2\n",
       "1    0\n",
       "2    0\n",
       "3    2\n",
       "dtype: int64"
      ]
     },
     "execution_count": 173,
     "metadata": {},
     "output_type": "execute_result"
    }
   ],
   "source": [
    "ser.str.count('a')"
   ]
  },
  {
   "cell_type": "raw",
   "id": "c4269cd0-061f-4e0b-ba30-8e6f667e46bc",
   "metadata": {},
   "source": [
    "StartsWith , EndsWith"
   ]
  },
  {
   "cell_type": "code",
   "execution_count": 177,
   "id": "3d045775-9441-4178-a8dc-8a821e12423f",
   "metadata": {},
   "outputs": [
    {
     "data": {
      "text/plain": [
       "0    False\n",
       "1    False\n",
       "2     True\n",
       "3    False\n",
       "dtype: bool"
      ]
     },
     "execution_count": 177,
     "metadata": {},
     "output_type": "execute_result"
    }
   ],
   "source": [
    "ser.str.startswith('H')"
   ]
  },
  {
   "cell_type": "code",
   "execution_count": 179,
   "id": "10905275-cfff-4971-8965-6350ab152dc4",
   "metadata": {},
   "outputs": [
    {
     "data": {
      "text/plain": [
       "0     True\n",
       "1    False\n",
       "2    False\n",
       "3    False\n",
       "dtype: bool"
      ]
     },
     "execution_count": 179,
     "metadata": {},
     "output_type": "execute_result"
    }
   ],
   "source": [
    "ser.str.endswith('e')"
   ]
  },
  {
   "cell_type": "raw",
   "id": "9553d45b-2dea-4337-87b5-d23907c2c7dd",
   "metadata": {},
   "source": [
    "Find Function"
   ]
  },
  {
   "cell_type": "code",
   "execution_count": 183,
   "id": "374f2145-f513-48da-87be-d184a166dae2",
   "metadata": {},
   "outputs": [
    {
     "data": {
      "text/plain": [
       "0    0\n",
       "1   -1\n",
       "2   -1\n",
       "3   -1\n",
       "dtype: int64"
      ]
     },
     "execution_count": 183,
     "metadata": {},
     "output_type": "execute_result"
    }
   ],
   "source": [
    "ser.str.find(\"Data\")"
   ]
  },
  {
   "cell_type": "markdown",
   "id": "5f8124f7-2e2b-4dd4-9f72-fdb29529629a",
   "metadata": {},
   "source": [
    "Converting a series to list"
   ]
  },
  {
   "cell_type": "code",
   "execution_count": 188,
   "id": "836cb746-535d-4b4f-81fa-13737b4f0074",
   "metadata": {},
   "outputs": [
    {
     "data": {
      "text/plain": [
       "['Data Science', 'JupyterNoteBook', 'Hello World', 'Machine Learning']"
      ]
     },
     "execution_count": 188,
     "metadata": {},
     "output_type": "execute_result"
    }
   ],
   "source": [
    "ser = ser.str.replace(\"@\",\" \")\n",
    "ser.to_list()"
   ]
  }
 ],
 "metadata": {
  "kernelspec": {
   "display_name": "Python 3 (ipykernel)",
   "language": "python",
   "name": "python3"
  },
  "language_info": {
   "codemirror_mode": {
    "name": "ipython",
    "version": 3
   },
   "file_extension": ".py",
   "mimetype": "text/x-python",
   "name": "python",
   "nbconvert_exporter": "python",
   "pygments_lexer": "ipython3",
   "version": "3.11.7"
  }
 },
 "nbformat": 4,
 "nbformat_minor": 5
}
